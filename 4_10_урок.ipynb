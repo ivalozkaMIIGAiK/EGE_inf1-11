{
  "cells": [
    {
      "cell_type": "markdown",
      "metadata": {
        "id": "view-in-github",
        "colab_type": "text"
      },
      "source": [
        "<a href=\"https://colab.research.google.com/github/ivalozkaMIIGAiK/EGE_inf1-11/blob/main/4_10_%D1%83%D1%80%D0%BE%D0%BA.ipynb\" target=\"_parent\"><img src=\"https://colab.research.google.com/assets/colab-badge.svg\" alt=\"Open In Colab\"/></a>"
      ]
    },
    {
      "cell_type": "code",
      "execution_count": null,
      "metadata": {
        "colab": {
          "background_save": true
        },
        "id": "pQ9gSvsSfMo2",
        "outputId": "a82fac82-b4bd-49e5-bd9f-f7e137ab0106"
      },
      "outputs": [
        {
          "name": "stdout",
          "output_type": "stream",
          "text": [
            "13\n"
          ]
        }
      ],
      "source": [
        "a = []\n",
        "for x in range(1, 100): #цикл для 1\n",
        "    for y in range(1, 100): #цикл для 2\n",
        "        for z in range(1, 100): #цикл для 1\n",
        "            s = '0' + '1'*x + '2'*y + '3'*z + '0'\n",
        "            while '00' not in s:\n",
        "                s = s.replace('01', '220', 1)\n",
        "                s = s.replace('02', '1013', 1)\n",
        "                s = s.replace('03', '120', 1)\n",
        "            if s.count('1') == 13 and s.count('2') == 18:\n",
        "                a.append(x+y+z)\n",
        "print(min(a)+2)"
      ]
    },
    {
      "cell_type": "code",
      "execution_count": null,
      "metadata": {
        "colab": {
          "base_uri": "https://localhost:8080/",
          "height": 234
        },
        "id": "JEfKbO6qrgTV",
        "outputId": "85d51c86-1ff8-4532-bcf5-d58fff07584b"
      },
      "outputs": [
        {
          "name": "stdout",
          "output_type": "stream",
          "text": [
            "17\n"
          ]
        },
        {
          "ename": "KeyboardInterrupt",
          "evalue": "",
          "output_type": "error",
          "traceback": [
            "\u001b[0;31m---------------------------------------------------------------------------\u001b[0m",
            "\u001b[0;31mKeyboardInterrupt\u001b[0m                         Traceback (most recent call last)",
            "\u001b[0;32m<ipython-input-28-16ee024ef19c>\u001b[0m in \u001b[0;36m<cell line: 1>\u001b[0;34m()\u001b[0m\n\u001b[1;32m      5\u001b[0m             \u001b[0;32mwhile\u001b[0m \u001b[0;34m'01'\u001b[0m \u001b[0;32min\u001b[0m \u001b[0ms\u001b[0m \u001b[0;32mor\u001b[0m \u001b[0;34m'02'\u001b[0m \u001b[0;32min\u001b[0m \u001b[0ms\u001b[0m \u001b[0;32mor\u001b[0m \u001b[0;34m'03'\u001b[0m \u001b[0;32min\u001b[0m \u001b[0ms\u001b[0m\u001b[0;34m:\u001b[0m\u001b[0;34m\u001b[0m\u001b[0;34m\u001b[0m\u001b[0m\n\u001b[1;32m      6\u001b[0m                 \u001b[0ms\u001b[0m \u001b[0;34m=\u001b[0m \u001b[0ms\u001b[0m\u001b[0;34m.\u001b[0m\u001b[0mreplace\u001b[0m\u001b[0;34m(\u001b[0m\u001b[0;34m'01'\u001b[0m\u001b[0;34m,\u001b[0m \u001b[0;34m'30'\u001b[0m\u001b[0;34m,\u001b[0m \u001b[0;36m1\u001b[0m\u001b[0;34m)\u001b[0m\u001b[0;34m\u001b[0m\u001b[0;34m\u001b[0m\u001b[0m\n\u001b[0;32m----> 7\u001b[0;31m                 \u001b[0ms\u001b[0m \u001b[0;34m=\u001b[0m \u001b[0ms\u001b[0m\u001b[0;34m.\u001b[0m\u001b[0mreplace\u001b[0m\u001b[0;34m(\u001b[0m\u001b[0;34m'02'\u001b[0m\u001b[0;34m,\u001b[0m \u001b[0;34m'3103'\u001b[0m\u001b[0;34m,\u001b[0m \u001b[0;36m1\u001b[0m\u001b[0;34m)\u001b[0m\u001b[0;34m\u001b[0m\u001b[0;34m\u001b[0m\u001b[0m\n\u001b[0m\u001b[1;32m      8\u001b[0m                 \u001b[0ms\u001b[0m \u001b[0;34m=\u001b[0m \u001b[0ms\u001b[0m\u001b[0;34m.\u001b[0m\u001b[0mreplace\u001b[0m\u001b[0;34m(\u001b[0m\u001b[0;34m'03'\u001b[0m\u001b[0;34m,\u001b[0m \u001b[0;34m'1201'\u001b[0m\u001b[0;34m,\u001b[0m \u001b[0;36m1\u001b[0m\u001b[0;34m)\u001b[0m\u001b[0;34m\u001b[0m\u001b[0;34m\u001b[0m\u001b[0m\n\u001b[1;32m      9\u001b[0m             \u001b[0;32mif\u001b[0m \u001b[0ms\u001b[0m\u001b[0;34m.\u001b[0m\u001b[0mcount\u001b[0m\u001b[0;34m(\u001b[0m\u001b[0;34m'1'\u001b[0m\u001b[0;34m)\u001b[0m \u001b[0;34m==\u001b[0m \u001b[0;36m31\u001b[0m \u001b[0;32mand\u001b[0m \u001b[0ms\u001b[0m\u001b[0;34m.\u001b[0m\u001b[0mcount\u001b[0m\u001b[0;34m(\u001b[0m\u001b[0;34m'2'\u001b[0m\u001b[0;34m)\u001b[0m \u001b[0;34m==\u001b[0m \u001b[0;36m24\u001b[0m \u001b[0;32mand\u001b[0m \u001b[0ms\u001b[0m\u001b[0;34m.\u001b[0m\u001b[0mcount\u001b[0m\u001b[0;34m(\u001b[0m\u001b[0;34m'3'\u001b[0m\u001b[0;34m)\u001b[0m \u001b[0;34m==\u001b[0m \u001b[0;36m46\u001b[0m\u001b[0;34m:\u001b[0m\u001b[0;34m\u001b[0m\u001b[0;34m\u001b[0m\u001b[0m\n",
            "\u001b[0;31mKeyboardInterrupt\u001b[0m: "
          ]
        }
      ],
      "source": [
        "for x in range(1, 100): #цикл для 1\n",
        "    for y in range(1, 100): #цикл для 2\n",
        "        for z in range(1, 100): #цикл для 1\n",
        "            s = '0' + '1'*x + '2'*y + '3'*z\n",
        "            while '01' in s or '02' in s or '03' in s:\n",
        "                s = s.replace('01', '30', 1)\n",
        "                s = s.replace('02', '3103', 1)\n",
        "                s = s.replace('03', '1201', 1)\n",
        "            if s.count('1') == 31 and s.count('2') == 24 and s.count('3') == 46:\n",
        "                print(z)\n"
      ]
    },
    {
      "cell_type": "code",
      "execution_count": null,
      "metadata": {
        "colab": {
          "base_uri": "https://localhost:8080/"
        },
        "id": "2SCXsxmEkSEj",
        "outputId": "11193a34-dc3a-440f-9b0d-79df746b0f2e"
      },
      "outputs": [
        {
          "name": "stdout",
          "output_type": "stream",
          "text": [
            "156\n"
          ]
        }
      ],
      "source": [
        "a = []\n",
        "for n in range(3, 500):\n",
        "    s = '5' + '2'*n\n",
        "    while '52' in s or '2222' in s or '1122' in s:\n",
        "        if '52' in s:\n",
        "            s = s.replace('52', '11', 1)\n",
        "        if '2222' in s:\n",
        "            s = s.replace('2222', '5', 1)\n",
        "        if '1122' in s:\n",
        "            s = s.replace('1122', '25', 1)\n",
        "\n",
        "        summ = s.count('2')*2 + s.count('1')+s.count('5')*5\n",
        "        if summ == 64:\n",
        "            a.append(n)\n",
        "print(max(a))"
      ]
    },
    {
      "cell_type": "code",
      "execution_count": null,
      "metadata": {
        "colab": {
          "base_uri": "https://localhost:8080/"
        },
        "id": "Dofn5gK0lUuz",
        "outputId": "201ff814-4544-486f-fc54-d4f903d15b43"
      },
      "outputs": [
        {
          "name": "stdout",
          "output_type": "stream",
          "text": [
            "156\n"
          ]
        }
      ],
      "source": [
        "a = 0\n",
        "for n in range(3, 1000):\n",
        "    s = '5' + '2'*n\n",
        "    while '52' in s or '2222' in s or '1122' in s:\n",
        "        if '52' in s:\n",
        "            s = s.replace('52', '11', 1)\n",
        "        if '2222' in s:\n",
        "            s = s.replace('2222', '5', 1)\n",
        "        if '1122' in s:\n",
        "            s = s.replace('1122', '25', 1)\n",
        "\n",
        "        summ = s.count('2')*2 + s.count('1')+s.count('5')*5\n",
        "        if summ == 64:\n",
        "            if n > a:\n",
        "              a = n\n",
        "print(a)"
      ]
    },
    {
      "cell_type": "code",
      "execution_count": null,
      "metadata": {
        "colab": {
          "base_uri": "https://localhost:8080/"
        },
        "id": "zGf8nsRunCCw",
        "outputId": "a47ef26b-0569-4469-d566-bdab9ab09fa6"
      },
      "outputs": [
        {
          "name": "stdout",
          "output_type": "stream",
          "text": [
            "41\n"
          ]
        }
      ],
      "source": [
        "a = 0\n",
        "for n in range(4, 1000):\n",
        "    s = '8' + '4'*n\n",
        "    while ('11' in s) or ('444' in s) or ('8888' in s):\n",
        "        if '11' in s:\n",
        "            s = s.replace('11', '4', 1)\n",
        "        if '444' in s:\n",
        "            s = s.replace('444', '88', 1)\n",
        "        if '8888' in s:\n",
        "            s = s.replace('8888', '1', 1)\n",
        "\n",
        "    summ = s.count('4')*4 + s.count('1')+ s.count('8')*8\n",
        "    if summ > a:\n",
        "      a = summ\n",
        "print(a)"
      ]
    },
    {
      "cell_type": "code",
      "execution_count": null,
      "metadata": {
        "colab": {
          "base_uri": "https://localhost:8080/"
        },
        "id": "6phtFGSfo1c9",
        "outputId": "f9fff736-47cc-4758-ea47-a9ae104090a8"
      },
      "outputs": [
        {
          "name": "stdout",
          "output_type": "stream",
          "text": [
            "6 4 8\n"
          ]
        }
      ],
      "source": [
        "s = '4'* 60 + '6'*60 + '8'*60\n",
        "while ('46' in s) or ('84' in s) or ('86' in s):\n",
        "    if '46' in s:\n",
        "        s = s.replace('46', '64', 1)\n",
        "    if '84' in s:\n",
        "        s = s.replace('84', '48', 1)\n",
        "    if '86' in s:\n",
        "        s = s.replace('86', '68', 1)\n",
        "print(s[24],s[74],s[149])"
      ]
    },
    {
      "cell_type": "code",
      "execution_count": null,
      "metadata": {
        "id": "HPwddok9qAmK"
      },
      "outputs": [],
      "source": [
        "s = '1'* 28 + '2'*18 + '3'*35\n",
        "while ('>1' in s) or ('>2' in s) or ('>3' in s):\n",
        "    if '>1' in s:\n",
        "        s = s.replace('>1', '64', 1)\n",
        "    if '>2' in s:\n",
        "        s = s.replace('>2', '48', 1)\n",
        "    if '>3' in s:\n",
        "        s = s.replace('>3', '68', 1)\n",
        "print(s[24],s[74],s[149])"
      ]
    },
    {
      "cell_type": "code",
      "execution_count": null,
      "metadata": {
        "colab": {
          "base_uri": "https://localhost:8080/"
        },
        "id": "lmEcuvzGqiW9",
        "outputId": "ec9db742-2900-4cf8-d1e9-7aa25a4c303d"
      },
      "outputs": [
        {
          "name": "stdout",
          "output_type": "stream",
          "text": [
            "221\n",
            "227\n",
            "262\n",
            "264\n",
            "281\n",
            "287\n"
          ]
        }
      ],
      "source": [
        "a = 0\n",
        "for n in range(210, 301):\n",
        "    s = '3' + '7'*n\n",
        "    while ('27' in s) or ('377' in s) or ('777' in s):\n",
        "        if '27' in s:\n",
        "            s = s.replace('27', '32', 1)\n",
        "        if '377' in s:\n",
        "            s = s.replace('377', '27', 1)\n",
        "        if '777' in s:\n",
        "            s = s.replace('777', '3', 1)\n",
        "\n",
        "    summ = s.count('3')*3 + s.count('2')*2+ s.count('7')*7\n",
        "    if summ % 15 == 0:\n",
        "      print(n)\n"
      ]
    }
  ],
  "metadata": {
    "colab": {
      "provenance": [],
      "authorship_tag": "ABX9TyMOZqz/zSAqYiQgbPo7eae2",
      "include_colab_link": true
    },
    "kernelspec": {
      "display_name": "Python 3",
      "name": "python3"
    },
    "language_info": {
      "name": "python"
    }
  },
  "nbformat": 4,
  "nbformat_minor": 0
}